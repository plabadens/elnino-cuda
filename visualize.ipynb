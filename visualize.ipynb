{
 "cells": [
  {
   "cell_type": "code",
   "execution_count": 124,
   "metadata": {},
   "outputs": [],
   "source": [
    "import numpy as np\n",
    "import matplotlib.pyplot as plt\n",
    "from matplotlib.animation import FuncAnimation\n",
    "\n",
    "Nx = 300\n",
    "Ny = 400\n",
    "data = np.fromfile('sw_output.data', np.float32).reshape((-1, Nx, Ny))\n",
    "# turn the grid 90 degrees\n",
    "data = np.rot90(data, 1, (1,2))\n",
    "\n",
    "fig = plt.figure(figsize=(7,7))\n",
    "plot = plt.imshow(data[0], cmap='RdBu_r')\n",
    "# add a line for the equator\n",
    "plt.axhline(y=Ny/2, color='k', linestyle='--')\n",
    "colorbar = plt.colorbar()\n",
    "plt.close()\n",
    "def init():\n",
    "    plot.set_data(data[0])\n",
    "    return plot,\n",
    "\n",
    "def update(j):\n",
    "    plot.set_data(data[j])\n",
    "    if j % 10 == 1:\n",
    "        print(f\"rendered {j-1} frames\")\n",
    "    return plot,\n",
    "\n",
    "\n",
    "anim = FuncAnimation(fig, update, init_func = init, frames=len(data), interval = 100, blit=True)"
   ]
  },
  {
   "cell_type": "code",
   "execution_count": 125,
   "metadata": {},
   "outputs": [
    {
     "name": "stdout",
     "output_type": "stream",
     "text": [
      "rendered 0 frames\n",
      "rendered 10 frames\n",
      "rendered 20 frames\n",
      "rendered 30 frames\n",
      "rendered 40 frames\n",
      "rendered 50 frames\n",
      "rendered 60 frames\n",
      "rendered 70 frames\n",
      "rendered 80 frames\n",
      "rendered 90 frames\n"
     ]
    }
   ],
   "source": [
    "anim.save(\"video.mp4\", bitrate=-1, dpi=100) "
   ]
  },
  {
   "cell_type": "code",
   "execution_count": 126,
   "metadata": {},
   "outputs": [
    {
     "data": {
      "text/html": [
       "<video src=\"video.mp4\" controls  >\n",
       "      Your browser does not support the <code>video</code> element.\n",
       "    </video>"
      ],
      "text/plain": [
       "<IPython.core.display.Video object>"
      ]
     },
     "execution_count": 126,
     "metadata": {},
     "output_type": "execute_result"
    }
   ],
   "source": [
    "from IPython.display import Video\n",
    "\n",
    "Video(\"video.mp4\")"
   ]
  },
  {
   "cell_type": "code",
   "execution_count": null,
   "metadata": {},
   "outputs": [],
   "source": []
  }
 ],
 "metadata": {
  "kernelspec": {
   "display_name": "Python 3 (ipykernel)",
   "language": "python",
   "name": "python3"
  },
  "language_info": {
   "codemirror_mode": {
    "name": "ipython",
    "version": 3
   },
   "file_extension": ".py",
   "mimetype": "text/x-python",
   "name": "python",
   "nbconvert_exporter": "python",
   "pygments_lexer": "ipython3",
   "version": "3.10.9"
  }
 },
 "nbformat": 4,
 "nbformat_minor": 4
}
